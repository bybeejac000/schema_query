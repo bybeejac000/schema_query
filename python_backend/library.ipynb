{
 "cells": [
  {
   "cell_type": "code",
   "execution_count": 2,
   "id": "ded37e64",
   "metadata": {},
   "outputs": [
    {
     "name": "stderr",
     "output_type": "stream",
     "text": [
      "[NbConvertApp] Converting notebook library.ipynb to script\n",
      "[NbConvertApp] Writing 316 bytes to library.txt\n"
     ]
    }
   ],
   "source": [
    "!jupyter nbconvert --to script library.ipynb\n"
   ]
  },
  {
   "cell_type": "code",
   "execution_count": 1,
   "id": "010a4a9e",
   "metadata": {},
   "outputs": [],
   "source": [
    "def query(question, url=\"http://34.231.20.50:11434/api/generate\"):\n",
    "    import requests\n",
    "    payload = {\n",
    "        \"model\": \"mistral:7b-instruct-q4_K_M\",\n",
    "        \"prompt\": question,\n",
    "        \"stream\": False\n",
    "    }\n",
    "\n",
    "    response = requests.post(url, json=payload)\n",
    "\n",
    "    res = response.json().get(\"response\")\n",
    "    return res\n"
   ]
  }
 ],
 "metadata": {
  "kernelspec": {
   "display_name": "Python 3",
   "language": "python",
   "name": "python3"
  },
  "language_info": {
   "codemirror_mode": {
    "name": "ipython",
    "version": 3
   },
   "file_extension": ".py",
   "mimetype": "text/x-python",
   "name": "python",
   "nbconvert_exporter": "python",
   "pygments_lexer": "ipython3",
   "version": "3.12.1"
  }
 },
 "nbformat": 4,
 "nbformat_minor": 5
}
